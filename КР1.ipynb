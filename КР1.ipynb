{
 "cells": [
  {
   "cell_type": "markdown",
   "id": "cf37f347",
   "metadata": {},
   "source": [
    "# Контрольная работа 1"
   ]
  },
  {
   "cell_type": "markdown",
   "id": "b18d13dd",
   "metadata": {},
   "source": [
    "## Задача A. Площадь поверхности прямоугольного параллелепипеда"
   ]
  },
  {
   "cell_type": "markdown",
   "id": "1ed25a32",
   "metadata": {},
   "source": [
    "Вычислите площадь поверхности прямоугольного параллелепипеда по трём известным рёбрам."
   ]
  },
  {
   "cell_type": "markdown",
   "id": "62a4c57e",
   "metadata": {},
   "source": [
    "### Формат входных данных"
   ]
  },
  {
   "cell_type": "markdown",
   "id": "651e5645",
   "metadata": {},
   "source": [
    "На вход программе подаётся три целых числа, разделённых пробелом — длины рёбер прямоугольного параллелепипеда по трём измерениям."
   ]
  },
  {
   "cell_type": "markdown",
   "id": "2d289115",
   "metadata": {},
   "source": [
    "### Формат выходных данных"
   ]
  },
  {
   "cell_type": "markdown",
   "id": "f3a6e474",
   "metadata": {},
   "source": [
    "Выведите одно целое число — площадь поверхности данного прямоугольного параллелепипеда."
   ]
  },
  {
   "cell_type": "markdown",
   "id": "3dad35d7",
   "metadata": {},
   "source": [
    "### Пример"
   ]
  },
  {
   "cell_type": "markdown",
   "id": "83435a16",
   "metadata": {},
   "source": [
    "#### Входные данные"
   ]
  },
  {
   "cell_type": "raw",
   "id": "7a363535",
   "metadata": {},
   "source": [
    "1 1 1"
   ]
  },
  {
   "cell_type": "markdown",
   "id": "ad854440",
   "metadata": {},
   "source": [
    "#### Выходные данные "
   ]
  },
  {
   "cell_type": "raw",
   "id": "328cce83",
   "metadata": {},
   "source": [
    "6"
   ]
  },
  {
   "cell_type": "markdown",
   "id": "31680f84",
   "metadata": {},
   "source": [
    "## Решение"
   ]
  },
  {
   "cell_type": "code",
   "execution_count": 1,
   "id": "cb92e033",
   "metadata": {},
   "outputs": [
    {
     "ename": "IndexError",
     "evalue": "list index out of range",
     "output_type": "error",
     "traceback": [
      "\u001B[0;31m---------------------------------------------------------------------------\u001B[0m",
      "\u001B[0;31mIndexError\u001B[0m                                Traceback (most recent call last)",
      "Input \u001B[0;32mIn [1]\u001B[0m, in \u001B[0;36m<cell line: 2>\u001B[0;34m()\u001B[0m\n\u001B[1;32m      1\u001B[0m a \u001B[38;5;241m=\u001B[39m \u001B[38;5;28mlist\u001B[39m(\u001B[38;5;28mmap\u001B[39m(\u001B[38;5;28mint\u001B[39m, \u001B[38;5;28minput\u001B[39m()\u001B[38;5;241m.\u001B[39msplit()))\n\u001B[0;32m----> 2\u001B[0m \u001B[38;5;28mprint\u001B[39m(\u001B[38;5;241m2\u001B[39m\u001B[38;5;241m*\u001B[39m(\u001B[43ma\u001B[49m\u001B[43m[\u001B[49m\u001B[38;5;241;43m0\u001B[39;49m\u001B[43m]\u001B[49m\u001B[38;5;241m*\u001B[39ma[\u001B[38;5;241m1\u001B[39m]\u001B[38;5;241m+\u001B[39ma[\u001B[38;5;241m1\u001B[39m]\u001B[38;5;241m*\u001B[39ma[\u001B[38;5;241m2\u001B[39m]\u001B[38;5;241m+\u001B[39ma[\u001B[38;5;241m2\u001B[39m]\u001B[38;5;241m*\u001B[39ma[\u001B[38;5;241m0\u001B[39m]))\n",
      "\u001B[0;31mIndexError\u001B[0m: list index out of range"
     ]
    }
   ],
   "source": [
    "S = list(map(int, input().split()))\n",
    "p  = 1\n",
    "for i in S:\n",
    "    p = p*i\n",
    "print(p)"
   ]
  },
  {
   "cell_type": "markdown",
   "id": "b3eb42e7",
   "metadata": {},
   "source": [
    "## Задача B. Утро Арсения"
   ]
  },
  {
   "cell_type": "markdown",
   "id": "edcde593",
   "metadata": {},
   "source": [
    "Первокурсник Арсений просыпается утром после посвящения и понимает, что сегодня у него по расписанию `n` пар. Ходить на пары в такой день невероятно сложно, однако Арсений проявляет могучую силу воли и решает во что бы то ни стало сходить хотя бы на `k` пар из этих `n`. Посчитайте, сколько способов у Арсения выбрать, на какие пары ему идти."
   ]
  },
  {
   "cell_type": "markdown",
   "id": "c6b8d51c",
   "metadata": {},
   "source": [
    "### Формат входных данных"
   ]
  },
  {
   "cell_type": "markdown",
   "id": "25e647e4",
   "metadata": {},
   "source": [
    "На вход программе подаётся два целых числа, разделённых пробелом — `n` и `k`."
   ]
  },
  {
   "cell_type": "markdown",
   "id": "2f2a3740",
   "metadata": {},
   "source": [
    "### Формат выходных данных"
   ]
  },
  {
   "cell_type": "markdown",
   "id": "a78e222d",
   "metadata": {},
   "source": [
    "Выведите одно целое число — количество способов выбрать хотя бы `k` пар из этих `n`."
   ]
  },
  {
   "cell_type": "markdown",
   "id": "e9a980d1",
   "metadata": {},
   "source": [
    "### Пример"
   ]
  },
  {
   "cell_type": "markdown",
   "id": "c5e13637",
   "metadata": {},
   "source": [
    "#### Входные данные"
   ]
  },
  {
   "cell_type": "raw",
   "id": "dd07553e",
   "metadata": {},
   "source": [
    "5 1"
   ]
  },
  {
   "cell_type": "markdown",
   "id": "659ef874",
   "metadata": {},
   "source": [
    "#### Выходные данные "
   ]
  },
  {
   "cell_type": "raw",
   "id": "21a64517",
   "metadata": {},
   "source": [
    "5"
   ]
  },
  {
   "cell_type": "markdown",
   "id": "7daf2b6e",
   "metadata": {},
   "source": [
    "### Пример 2"
   ]
  },
  {
   "cell_type": "markdown",
   "id": "cd6c35bc",
   "metadata": {},
   "source": [
    "#### Входные данные"
   ]
  },
  {
   "cell_type": "raw",
   "id": "69d4ea0f",
   "metadata": {},
   "source": [
    "3 2"
   ]
  },
  {
   "cell_type": "markdown",
   "id": "72aa3591",
   "metadata": {},
   "source": [
    "#### Выходные данные "
   ]
  },
  {
   "cell_type": "raw",
   "id": "fac63e83",
   "metadata": {},
   "source": [
    "4"
   ]
  },
  {
   "cell_type": "markdown",
   "id": "7ccc1787",
   "metadata": {},
   "source": [
    "## Решение"
   ]
  },
  {
   "cell_type": "code",
   "execution_count": 21,
   "id": "3038b2bb",
   "metadata": {},
   "outputs": [
    {
     "name": "stdout",
     "output_type": "stream",
     "text": [
      "31\n"
     ]
    }
   ],
   "source": [
    "import math\n",
    "\n",
    "n, k = map(int, input().split())\n",
    "print(math.comb(n, k))"
   ]
  },
  {
   "cell_type": "markdown",
   "id": "dda106d4",
   "metadata": {},
   "source": [
    "## Задача C. Инвертировать чётную подпоследовательность"
   ]
  },
  {
   "cell_type": "markdown",
   "id": "b247bbd8",
   "metadata": {},
   "source": [
    "Напишите программу, которая обращает порядок элементов последовательности, имеющих чётный индекс. Напоминаем, что индексация начинается с нуля."
   ]
  },
  {
   "cell_type": "markdown",
   "id": "ce2d2cfa",
   "metadata": {},
   "source": [
    "### Формат входных данных"
   ]
  },
  {
   "cell_type": "markdown",
   "id": "b5adfdf3",
   "metadata": {},
   "source": [
    "На вход программе подаётся несколько элементов, записанных в одну строчку и разделённых пробелами."
   ]
  },
  {
   "cell_type": "markdown",
   "id": "7600ade1",
   "metadata": {},
   "source": [
    "### Формат выходных данных"
   ]
  },
  {
   "cell_type": "markdown",
   "id": "a7381abc",
   "metadata": {},
   "source": [
    "Выведите ответ на задачу, разделяя элементы полученной последовательности пробелом."
   ]
  },
  {
   "cell_type": "markdown",
   "id": "7218aee7",
   "metadata": {},
   "source": [
    "### Пример"
   ]
  },
  {
   "cell_type": "markdown",
   "id": "8b61fdc7",
   "metadata": {},
   "source": [
    "#### Входные данные"
   ]
  },
  {
   "cell_type": "raw",
   "id": "c0776f20",
   "metadata": {},
   "source": [
    "1 2 3 4 5 6"
   ]
  },
  {
   "cell_type": "markdown",
   "id": "65c214e2",
   "metadata": {},
   "source": [
    "#### Выходные данные "
   ]
  },
  {
   "cell_type": "raw",
   "id": "097fb7bd",
   "metadata": {},
   "source": [
    "5 2 3 4 1 6"
   ]
  },
  {
   "cell_type": "markdown",
   "id": "0eef98f2",
   "metadata": {},
   "source": [
    "### Пример 2"
   ]
  },
  {
   "cell_type": "markdown",
   "id": "d00bdf2a",
   "metadata": {},
   "source": [
    "#### Входные данные"
   ]
  },
  {
   "cell_type": "raw",
   "id": "166c454d",
   "metadata": {},
   "source": [
    "a bb ccc dddd eeeee"
   ]
  },
  {
   "cell_type": "markdown",
   "id": "9ab60d82",
   "metadata": {},
   "source": [
    "#### Выходные данные "
   ]
  },
  {
   "cell_type": "raw",
   "id": "c7dc4bb0",
   "metadata": {},
   "source": [
    "eeeee bb ccc dddd a"
   ]
  },
  {
   "cell_type": "markdown",
   "id": "fcbc6c9c",
   "metadata": {},
   "source": [
    "## Решение"
   ]
  },
  {
   "cell_type": "code",
   "execution_count": 11,
   "id": "33f3766c",
   "metadata": {},
   "outputs": [
    {
     "name": "stdout",
     "output_type": "stream",
     "text": [
      "5 2 3 4 1 6\n"
     ]
    }
   ],
   "source": [
    "a = list(input().split())\n",
    "b = []\n",
    "w = 2 - len(a)%2\n",
    "for i in range(len(a)):\n",
    "    if i % 2 == 0:\n",
    "        b.append(a[len(a)-i-w])\n",
    "    else:\n",
    "        b.append(a[i])\n",
    "print(*b)"
   ]
  },
  {
   "cell_type": "markdown",
   "id": "9d9f8ab2",
   "metadata": {},
   "source": [
    "## Задача D. Таблица умножения"
   ]
  },
  {
   "cell_type": "markdown",
   "id": "21016f73",
   "metadata": {},
   "source": [
    "Даны два числа `n` и `m`. Создайте двумерный массив `A[n][m]`, заполните его таблицей умножения `A[i][j]=i*j` и выведите на экран. При этом нельзя использовать библиотеку NumPy."
   ]
  },
  {
   "cell_type": "markdown",
   "id": "ea9ac036",
   "metadata": {},
   "source": [
    "### Формат входных данных"
   ]
  },
  {
   "cell_type": "markdown",
   "id": "1133f4ee",
   "metadata": {},
   "source": [
    "Программа получает на вход два числа `n` и `m` – количество строк и столбцов, соответственно."
   ]
  },
  {
   "cell_type": "markdown",
   "id": "e02fd281",
   "metadata": {},
   "source": [
    "### Формат выходных данных"
   ]
  },
  {
   "cell_type": "markdown",
   "id": "197861d3",
   "metadata": {},
   "source": [
    "Программа должна вывести  полученный массив. Числа разделяйте одним пробелом."
   ]
  },
  {
   "cell_type": "markdown",
   "id": "212c01b0",
   "metadata": {},
   "source": [
    "### Пример"
   ]
  },
  {
   "cell_type": "markdown",
   "id": "e3a19d52",
   "metadata": {},
   "source": [
    "#### Входные данные"
   ]
  },
  {
   "cell_type": "raw",
   "id": "62011e3f",
   "metadata": {},
   "source": [
    "3 3"
   ]
  },
  {
   "cell_type": "markdown",
   "id": "47ff7b4f",
   "metadata": {},
   "source": [
    "#### Выходные данные "
   ]
  },
  {
   "cell_type": "raw",
   "id": "fd1f2f12",
   "metadata": {},
   "source": [
    "0 0 0\n",
    "0 1 2\n",
    "0 2 4"
   ]
  },
  {
   "cell_type": "code",
   "execution_count": 2,
   "id": "0bd5ab5e",
   "metadata": {},
   "outputs": [
    {
     "ename": "IndexError",
     "evalue": "list index out of range",
     "output_type": "error",
     "traceback": [
      "\u001B[0;31m---------------------------------------------------------------------------\u001B[0m",
      "\u001B[0;31mIndexError\u001B[0m                                Traceback (most recent call last)",
      "Input \u001B[0;32mIn [2]\u001B[0m, in \u001B[0;36m<cell line: 2>\u001B[0;34m()\u001B[0m\n\u001B[1;32m      1\u001B[0m a \u001B[38;5;241m=\u001B[39m \u001B[38;5;28mlist\u001B[39m(\u001B[38;5;28mmap\u001B[39m(\u001B[38;5;28mint\u001B[39m, \u001B[38;5;28minput\u001B[39m()\u001B[38;5;241m.\u001B[39msplit()))\n\u001B[0;32m----> 2\u001B[0m n \u001B[38;5;241m=\u001B[39m \u001B[43ma\u001B[49m\u001B[43m[\u001B[49m\u001B[38;5;241;43m0\u001B[39;49m\u001B[43m]\u001B[49m\n\u001B[1;32m      3\u001B[0m m \u001B[38;5;241m=\u001B[39m a[\u001B[38;5;241m1\u001B[39m]\n\u001B[1;32m      4\u001B[0m \u001B[38;5;28;01mfor\u001B[39;00m i \u001B[38;5;129;01min\u001B[39;00m \u001B[38;5;28mrange\u001B[39m(n):\n",
      "\u001B[0;31mIndexError\u001B[0m: list index out of range"
     ]
    }
   ],
   "source": [
    "n, m = map(int, input().split())\n",
    "for i in range(n):\n",
    "    for j in range(m):\n",
    "        print(i*j, end=' ')"
   ]
  },
  {
   "cell_type": "markdown",
   "id": "8afb6d2d",
   "metadata": {},
   "source": [
    "## Задача D.A. Таблица умножения-2"
   ]
  },
  {
   "cell_type": "markdown",
   "id": "79473f5e",
   "metadata": {},
   "source": [
    "Даны два числа `n` и `m`. Создайте двумерный массив `A[n][m]`, заполните его таблицей умножения `A[i][j]=i*j` и выведите на экран. Решите задачу с помощью библиотеки NumPy."
   ]
  },
  {
   "cell_type": "markdown",
   "id": "17c3fab5",
   "metadata": {},
   "source": [
    "### Формат входных данных"
   ]
  },
  {
   "cell_type": "markdown",
   "id": "87e21288",
   "metadata": {},
   "source": [
    "Программа получает на вход два числа `n` и `m` – количество строк и столбцов, соответственно."
   ]
  },
  {
   "cell_type": "markdown",
   "id": "2a5d9dc5",
   "metadata": {},
   "source": [
    "### Формат выходных данных"
   ]
  },
  {
   "cell_type": "markdown",
   "id": "e40061d9",
   "metadata": {},
   "source": [
    "Программа должна вывести  полученный массив. Числа разделяйте одним пробелом."
   ]
  },
  {
   "cell_type": "markdown",
   "id": "2914e30e",
   "metadata": {},
   "source": [
    "### Пример"
   ]
  },
  {
   "cell_type": "markdown",
   "id": "f3feeb0d",
   "metadata": {},
   "source": [
    "#### Входные данные"
   ]
  },
  {
   "cell_type": "raw",
   "id": "d0ce35a1",
   "metadata": {},
   "source": [
    "3 3"
   ]
  },
  {
   "cell_type": "markdown",
   "id": "4bc521fa",
   "metadata": {},
   "source": [
    "#### Выходные данные "
   ]
  },
  {
   "cell_type": "raw",
   "id": "0f42c2bb",
   "metadata": {},
   "source": [
    "0 0 0\n",
    "0 1 2\n",
    "0 2 4"
   ]
  },
  {
   "cell_type": "code",
   "execution_count": 3,
   "id": "d78fd6e7",
   "metadata": {},
   "outputs": [
    {
     "ename": "ValueError",
     "evalue": "not enough values to unpack (expected 2, got 0)",
     "output_type": "error",
     "traceback": [
      "\u001B[0;31m---------------------------------------------------------------------------\u001B[0m",
      "\u001B[0;31mValueError\u001B[0m                                Traceback (most recent call last)",
      "Input \u001B[0;32mIn [3]\u001B[0m, in \u001B[0;36m<cell line: 2>\u001B[0;34m()\u001B[0m\n\u001B[1;32m      1\u001B[0m \u001B[38;5;28;01mimport\u001B[39;00m \u001B[38;5;21;01mnumpy\u001B[39;00m \u001B[38;5;28;01mas\u001B[39;00m \u001B[38;5;21;01mnp\u001B[39;00m\n\u001B[0;32m----> 2\u001B[0m n, m \u001B[38;5;241m=\u001B[39m \u001B[38;5;28mmap\u001B[39m(\u001B[38;5;28mint\u001B[39m, \u001B[38;5;28minput\u001B[39m()\u001B[38;5;241m.\u001B[39msplit())\n\u001B[1;32m      3\u001B[0m \u001B[38;5;28;01mfor\u001B[39;00m i \u001B[38;5;129;01min\u001B[39;00m \u001B[38;5;28mrange\u001B[39m(n):\n\u001B[1;32m      4\u001B[0m     \u001B[38;5;28;01mfor\u001B[39;00m j \u001B[38;5;129;01min\u001B[39;00m \u001B[38;5;28mrange\u001B[39m(m):\n",
      "\u001B[0;31mValueError\u001B[0m: not enough values to unpack (expected 2, got 0)"
     ]
    }
   ],
   "source": [
    "import numpy as np\n",
    "n, m = map(int, input().split())\n",
    "for i in range(n):\n",
    "    for j in range(m):\n",
    "        print(i*j, end=' ')\n",
    "    print()"
   ]
  },
  {
   "cell_type": "markdown",
   "id": "6b9dda2d",
   "metadata": {},
   "source": [
    "## Задача E. Список присутствующих"
   ]
  },
  {
   "cell_type": "markdown",
   "id": "3645adb7",
   "metadata": {},
   "source": [
    "Преподаватель попросил присутствующих на паре студентов записаться в листочек. Однако, некоторые студенты записались более одного раза. Преподавателя интересует, сколько студентов на самом деле присутствовало на паре."
   ]
  },
  {
   "cell_type": "markdown",
   "id": "1fa0efb2",
   "metadata": {},
   "source": [
    "### Формат входных данных"
   ]
  },
  {
   "cell_type": "markdown",
   "id": "61eb1de0",
   "metadata": {},
   "source": [
    "В первой строке входных данных содержится одно целое число `n` — количество студентов, записанных в списке. Далее в последующих `n` строках следуют фамилии и имена студентов."
   ]
  },
  {
   "cell_type": "markdown",
   "id": "b967b33d",
   "metadata": {},
   "source": [
    "### Формат выходных данных"
   ]
  },
  {
   "cell_type": "markdown",
   "id": "844a2a54",
   "metadata": {},
   "source": [
    "Выведите одно целое число — количество студентов, присутствовавших на паре."
   ]
  },
  {
   "cell_type": "markdown",
   "id": "8755438c",
   "metadata": {},
   "source": [
    "### Пример"
   ]
  },
  {
   "cell_type": "markdown",
   "id": "15201653",
   "metadata": {},
   "source": [
    "#### Входные данные"
   ]
  },
  {
   "cell_type": "raw",
   "id": "3a93f6c8",
   "metadata": {},
   "source": [
    "4\n",
    "Осин Александр\n",
    "Колганов Никита\n",
    "Заиграев Никита\n",
    "Осин Александр"
   ]
  },
  {
   "cell_type": "markdown",
   "id": "d31b94dd",
   "metadata": {},
   "source": [
    "#### Выходные данные "
   ]
  },
  {
   "cell_type": "raw",
   "id": "6fb5a704",
   "metadata": {},
   "source": [
    "3"
   ]
  },
  {
   "cell_type": "code",
   "execution_count": 19,
   "id": "d7204427",
   "metadata": {},
   "outputs": [
    {
     "name": "stdout",
     "output_type": "stream",
     "text": [
      "3\n"
     ]
    }
   ],
   "source": [
    "n = int(input())\n",
    "b = [input() for _ in range(n)]\n",
    "s = 0\n",
    "for i in range(len(b)):\n",
    "    if b[i] not in b[0:i]:\n",
    "        s += 1\n",
    "print(s)"
   ]
  },
  {
   "cell_type": "markdown",
   "id": "6a7aca77",
   "metadata": {},
   "source": [
    "## Задача F. Обратима ли матрица?"
   ]
  },
  {
   "cell_type": "markdown",
   "id": "88047406",
   "metadata": {},
   "source": [
    "Выясните, сущестует ли обратная к данной матрице."
   ]
  },
  {
   "cell_type": "markdown",
   "id": "2e311aff",
   "metadata": {},
   "source": [
    "### Формат входных данных"
   ]
  },
  {
   "cell_type": "markdown",
   "id": "89037c20",
   "metadata": {},
   "source": [
    "В первой строке входных данных содержится одно целое число `n` — размер матрицы. Далее следуют `n` строк по `n` чисел — элементы матрицы."
   ]
  },
  {
   "cell_type": "markdown",
   "id": "f56126ef",
   "metadata": {},
   "source": [
    "### Формат выходных данных"
   ]
  },
  {
   "cell_type": "markdown",
   "id": "1f953ea5",
   "metadata": {},
   "source": [
    "Выведите `YES`, если матрица обратима, и `NO` в противном случае."
   ]
  },
  {
   "cell_type": "markdown",
   "id": "b81efa5b",
   "metadata": {},
   "source": [
    "### Пример"
   ]
  },
  {
   "cell_type": "markdown",
   "id": "035fb0f6",
   "metadata": {},
   "source": [
    "#### Входные данные"
   ]
  },
  {
   "cell_type": "raw",
   "id": "21988ff3",
   "metadata": {},
   "source": [
    "2\n",
    "1 0\n",
    "0 1"
   ]
  },
  {
   "cell_type": "markdown",
   "id": "f4c22cfd",
   "metadata": {},
   "source": [
    "#### Выходные данные "
   ]
  },
  {
   "cell_type": "raw",
   "id": "6bb68261",
   "metadata": {},
   "source": [
    "YES"
   ]
  },
  {
   "cell_type": "markdown",
   "id": "6759c28d",
   "metadata": {},
   "source": [
    "### Пример 2"
   ]
  },
  {
   "cell_type": "markdown",
   "id": "44d84c61",
   "metadata": {},
   "source": [
    "#### Входные данные"
   ]
  },
  {
   "cell_type": "raw",
   "id": "041f06e5",
   "metadata": {},
   "source": [
    "3\n",
    "1 2 3\n",
    "0 0 1\n",
    "1 2 3"
   ]
  },
  {
   "cell_type": "markdown",
   "id": "e07f1b62",
   "metadata": {},
   "source": [
    "#### Выходные данные "
   ]
  },
  {
   "cell_type": "raw",
   "id": "f9457a4b",
   "metadata": {},
   "source": [
    "NO"
   ]
  },
  {
   "cell_type": "markdown",
   "id": "c4feaecb",
   "metadata": {},
   "source": [
    "## Решение"
   ]
  },
  {
   "cell_type": "code",
   "execution_count": null,
   "id": "d592d4c4",
   "metadata": {},
   "outputs": [],
   "source": [
    "import numpy as np\n",
    "n = int(input())\n",
    "mas = np.array([[int(i) for i in input().split()] for i in range(n)])\n",
    "if np.linalg.det(a) == 0:\n",
    "    print(\"NO\")\n",
    "else:\n",
    "    print(\"YES\")"
   ]
  },
  {
   "cell_type": "markdown",
   "id": "6d85cc3f",
   "metadata": {},
   "source": [
    "## Задача G. Коммутатор"
   ]
  },
  {
   "cell_type": "markdown",
   "id": "d5d24dfd",
   "metadata": {},
   "source": [
    "Напишите функцию, вычисляющую коммутатор двух матриц. Коммутатором по определению называется выражение\n",
    "`[A, B] = AB - BA`"
   ]
  },
  {
   "cell_type": "markdown",
   "id": "533b7a81",
   "metadata": {},
   "source": [
    "### Формат входных данных"
   ]
  },
  {
   "cell_type": "markdown",
   "id": "264cc52b",
   "metadata": {},
   "source": [
    "Функция в качестве аргументов принимает два двумерных квадратных массива NumPy — матрицы, коммутатор которых она должна вычислить."
   ]
  },
  {
   "cell_type": "markdown",
   "id": "3a478f3d",
   "metadata": {},
   "source": [
    "### Формат выходных данных"
   ]
  },
  {
   "cell_type": "markdown",
   "id": "bbcf3808",
   "metadata": {},
   "source": [
    "Функция должна возвращать двумерный массив NumPy — результат."
   ]
  },
  {
   "cell_type": "markdown",
   "id": "949aa791",
   "metadata": {},
   "source": [
    "## Решение"
   ]
  },
  {
   "cell_type": "code",
   "execution_count": null,
   "id": "17cfa2be",
   "metadata": {},
   "outputs": [],
   "source": [
    "def commutator(A, B):\n",
    "    return A.dot(B)-B.dot(A)"
   ]
  },
  {
   "cell_type": "markdown",
   "id": "eb48b1a2",
   "metadata": {},
   "source": [
    "## Задача H. Антикоммутатор"
   ]
  },
  {
   "cell_type": "markdown",
   "id": "24a7ed84",
   "metadata": {},
   "source": [
    "Напишите функцию, вычисляющую антикоммутатор двух матриц. Антикоммутатором по определению называется выражение\n",
    "`{A, B} = AB + BA`"
   ]
  },
  {
   "cell_type": "markdown",
   "id": "fbc51f3e",
   "metadata": {},
   "source": [
    "### Формат входных данных"
   ]
  },
  {
   "cell_type": "markdown",
   "id": "eee712b6",
   "metadata": {},
   "source": [
    "Функция в качестве аргументов принимает два двумерных квадратных массива NumPy — матрицы, антикоммутатор которых она должна вычислить."
   ]
  },
  {
   "cell_type": "markdown",
   "id": "e831f65c",
   "metadata": {},
   "source": [
    "### Формат выходных данных"
   ]
  },
  {
   "cell_type": "markdown",
   "id": "ae201ba6",
   "metadata": {},
   "source": [
    "Функция должна возвращать двумерный массив NumPy — результат."
   ]
  },
  {
   "cell_type": "markdown",
   "id": "d4f6f6b8",
   "metadata": {},
   "source": [
    "## Решение"
   ]
  },
  {
   "cell_type": "code",
   "execution_count": null,
   "id": "efc56fd7",
   "metadata": {},
   "outputs": [],
   "source": [
    "def anticommutator(A, B):\n",
    "    return A.dot(B)+B.dot(A)"
   ]
  },
  {
   "cell_type": "markdown",
   "id": "9bd1aa16",
   "metadata": {},
   "source": [
    "## Задача I. Одно выражение с коммутатором"
   ]
  },
  {
   "cell_type": "markdown",
   "id": "ba6bc802",
   "metadata": {},
   "source": [
    "Напишите функцию, вычисляющую значение выражения `[A, [B, C]] + [B, [C, A]] + [C, [A, B]]` для трёх матриц `A`, `B`, `C`."
   ]
  },
  {
   "cell_type": "markdown",
   "id": "a6cf343a",
   "metadata": {},
   "source": [
    "### Формат входных данных"
   ]
  },
  {
   "cell_type": "markdown",
   "id": "7f70c5e8",
   "metadata": {},
   "source": [
    "Функция в качестве аргументов принимает три двумерных квадратных массива NumPy."
   ]
  },
  {
   "cell_type": "markdown",
   "id": "ebc78134",
   "metadata": {},
   "source": [
    "### Формат выходных данных"
   ]
  },
  {
   "cell_type": "markdown",
   "id": "e467ca2d",
   "metadata": {},
   "source": [
    "Функция должна возвращать двумерный массив NumPy — результат."
   ]
  },
  {
   "cell_type": "markdown",
   "id": "b043fe72",
   "metadata": {},
   "source": [
    "## Решение"
   ]
  },
  {
   "cell_type": "code",
   "execution_count": null,
   "id": "9eeed42c",
   "metadata": {},
   "outputs": [],
   "source": [
    "def jacobi(A, B, C):\n",
    "    return A.dot(B.dot(C))+B.dot(C.dot(A))+C.dot(A.dot(B))"
   ]
  },
  {
   "cell_type": "markdown",
   "id": "2c3772e8",
   "metadata": {},
   "source": [
    "## Задача J. Ассимптотика функций Бесселя"
   ]
  },
  {
   "cell_type": "markdown",
   "id": "0a87b3d9",
   "metadata": {},
   "source": [
    "Напишите программу, которая строит график функции $$J_a (x) = \\sqrt{\\frac{2}{\\pi x}} cos {\\bigg(} x - \\frac{a \\pi}{2} - \\frac{\\pi}{4} {\\bigg)}$$\n",
    "в промежутке от 0 до 20.\n",
    "\n",
    "График функции постройте синим цветом. Красной пунктирной линией на том же графике постройте две огибающие.\n",
    "\n",
    "Назовите график \"Ассимптотика функции Бесселя первого рода для a = {значение a}\". Не забудьте подписать оси.\n",
    "\n",
    "Пргорамму реализуйте как функцию от `a`."
   ]
  },
  {
   "cell_type": "code",
   "execution_count": 6,
   "id": "c3bc9c55",
   "metadata": {},
   "outputs": [
    {
     "ename": "AttributeError",
     "evalue": "module 'matplotlib_inline' has no attribute 'subplots'",
     "output_type": "error",
     "traceback": [
      "\u001B[0;31m---------------------------------------------------------------------------\u001B[0m",
      "\u001B[0;31mAttributeError\u001B[0m                            Traceback (most recent call last)",
      "Input \u001B[0;32mIn [6]\u001B[0m, in \u001B[0;36m<cell line: 27>\u001B[0;34m()\u001B[0m\n\u001B[1;32m     23\u001B[0m     plt\u001B[38;5;241m.\u001B[39mylabel(\u001B[38;5;124m'\u001B[39m\u001B[38;5;124mY\u001B[39m\u001B[38;5;124m'\u001B[39m)\n\u001B[1;32m     24\u001B[0m     plt\u001B[38;5;241m.\u001B[39mshow()\n\u001B[0;32m---> 27\u001B[0m \u001B[43mbessel_asymptotic\u001B[49m\u001B[43m(\u001B[49m\u001B[38;5;241;43m4\u001B[39;49m\u001B[43m)\u001B[49m\n",
      "Input \u001B[0;32mIn [6]\u001B[0m, in \u001B[0;36mbessel_asymptotic\u001B[0;34m(a)\u001B[0m\n\u001B[1;32m      7\u001B[0m y \u001B[38;5;241m=\u001B[39m (\u001B[38;5;241m2\u001B[39m\u001B[38;5;241m/\u001B[39m(np\u001B[38;5;241m.\u001B[39mpi\u001B[38;5;241m*\u001B[39mx))\u001B[38;5;241m*\u001B[39m\u001B[38;5;241m*\u001B[39m\u001B[38;5;241m0.5\u001B[39m\u001B[38;5;241m*\u001B[39mnp\u001B[38;5;241m.\u001B[39mcos(x\u001B[38;5;241m-\u001B[39ma\u001B[38;5;241m*\u001B[39mnp\u001B[38;5;241m.\u001B[39mpi\u001B[38;5;241m/\u001B[39m\u001B[38;5;241m2\u001B[39m\u001B[38;5;241m-\u001B[39mnp\u001B[38;5;241m.\u001B[39mpi\u001B[38;5;241m/\u001B[39m\u001B[38;5;241m4\u001B[39m)\n\u001B[1;32m      8\u001B[0m z \u001B[38;5;241m=\u001B[39m (\u001B[38;5;241m2\u001B[39m\u001B[38;5;241m/\u001B[39m(np\u001B[38;5;241m.\u001B[39mpi\u001B[38;5;241m*\u001B[39mx))\u001B[38;5;241m*\u001B[39m\u001B[38;5;241m*\u001B[39m\u001B[38;5;241m0.5\u001B[39m\n\u001B[0;32m----> 9\u001B[0m fig, ax \u001B[38;5;241m=\u001B[39m \u001B[43mplt\u001B[49m\u001B[38;5;241;43m.\u001B[39;49m\u001B[43msubplots\u001B[49m()\n\u001B[1;32m     10\u001B[0m ax\u001B[38;5;241m.\u001B[39mplot(x, y,\n\u001B[1;32m     11\u001B[0m         linestyle \u001B[38;5;241m=\u001B[39m \u001B[38;5;124m'\u001B[39m\u001B[38;5;124m-\u001B[39m\u001B[38;5;124m'\u001B[39m,\n\u001B[1;32m     12\u001B[0m         linewidth \u001B[38;5;241m=\u001B[39m \u001B[38;5;241m1\u001B[39m,\n\u001B[1;32m     13\u001B[0m         color \u001B[38;5;241m=\u001B[39m \u001B[38;5;124m'\u001B[39m\u001B[38;5;124mr\u001B[39m\u001B[38;5;124m'\u001B[39m)\n\u001B[1;32m     14\u001B[0m ax\u001B[38;5;241m.\u001B[39mplot(x, z,\n\u001B[1;32m     15\u001B[0m             linestyle \u001B[38;5;241m=\u001B[39m \u001B[38;5;124m'\u001B[39m\u001B[38;5;124m:\u001B[39m\u001B[38;5;124m'\u001B[39m,\n\u001B[1;32m     16\u001B[0m             linewidth \u001B[38;5;241m=\u001B[39m \u001B[38;5;241m1\u001B[39m,\n\u001B[1;32m     17\u001B[0m             color \u001B[38;5;241m=\u001B[39m \u001B[38;5;124m'\u001B[39m\u001B[38;5;124mg\u001B[39m\u001B[38;5;124m'\u001B[39m)\n",
      "\u001B[0;31mAttributeError\u001B[0m: module 'matplotlib_inline' has no attribute 'subplots'"
     ]
    }
   ],
   "source": [
    "import matplotlib_inline as plt\n",
    "\n",
    "\n",
    "def bessel_asymptotic(a):\n",
    "    \n",
    "    x = np.linspace(0.1, 20, 200)\n",
    "    y = (2/(np.pi*x))**0.5*np.cos(x-a*np.pi/2-np.pi/4)\n",
    "    z = (2/(np.pi*x))**0.5\n",
    "    fig, ax = plt.subplots()\n",
    "    ax.plot(x, y,\n",
    "            linestyle = '-',\n",
    "            linewidth = 1,\n",
    "            color = 'r')\n",
    "    ax.plot(x, z,\n",
    "                linestyle = ':',\n",
    "                linewidth = 1,\n",
    "                color = 'g')\n",
    "    ax.plot(x, -z,\n",
    "                linestyle = ':',\n",
    "                linewidth = 1,\n",
    "                color = 'g')\n",
    "    plt.xlabel('X')\n",
    "    plt.ylabel('Y')\n",
    "    plt.show()\n"
   ]
  },
  {
   "cell_type": "code",
   "execution_count": null,
   "outputs": [],
   "source": [],
   "metadata": {
    "collapsed": false
   }
  }
 ],
 "metadata": {
  "kernelspec": {
   "display_name": "Python 3.9.13 64-bit",
   "language": "python",
   "name": "python3"
  },
  "language_info": {
   "codemirror_mode": {
    "name": "ipython",
    "version": 3
   },
   "file_extension": ".py",
   "mimetype": "text/x-python",
   "name": "python",
   "nbconvert_exporter": "python",
   "pygments_lexer": "ipython3",
   "version": "3.9.13"
  },
  "vscode": {
   "interpreter": {
    "hash": "5eaf6253cf6e0dfaf25a21f1e78643179fc28d9ac743b88c93de6b563e1c17ff"
   }
  }
 },
 "nbformat": 4,
 "nbformat_minor": 5
}
